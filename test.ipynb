{
 "cells": [
  {
   "cell_type": "code",
   "execution_count": 1,
   "metadata": {},
   "outputs": [],
   "source": [
    "with open('wap.txt', 'r', encoding='utf-8') as f:\n",
    "    text = f.read()"
   ]
  },
  {
   "cell_type": "code",
   "execution_count": 2,
   "metadata": {},
   "outputs": [
    {
     "data": {
      "text/plain": [
       "3227578"
      ]
     },
     "execution_count": 2,
     "metadata": {},
     "output_type": "execute_result"
    }
   ],
   "source": [
    "len(text)"
   ]
  },
  {
   "cell_type": "code",
   "execution_count": 3,
   "metadata": {},
   "outputs": [],
   "source": [
    "chars = sorted(list(set(text)))\n"
   ]
  },
  {
   "cell_type": "code",
   "execution_count": 4,
   "metadata": {},
   "outputs": [
    {
     "data": {
      "text/plain": [
       "(112,\n",
       " ['\\n',\n",
       "  ' ',\n",
       "  '!',\n",
       "  '#',\n",
       "  '$',\n",
       "  '%',\n",
       "  '(',\n",
       "  ')',\n",
       "  '*',\n",
       "  ',',\n",
       "  '-',\n",
       "  '.',\n",
       "  '/',\n",
       "  '0',\n",
       "  '1',\n",
       "  '2',\n",
       "  '3',\n",
       "  '4',\n",
       "  '5',\n",
       "  '6',\n",
       "  '7',\n",
       "  '8',\n",
       "  '9',\n",
       "  ':',\n",
       "  ';',\n",
       "  '=',\n",
       "  '?',\n",
       "  'A',\n",
       "  'B',\n",
       "  'C',\n",
       "  'D',\n",
       "  'E',\n",
       "  'F',\n",
       "  'G',\n",
       "  'H',\n",
       "  'I',\n",
       "  'J',\n",
       "  'K',\n",
       "  'L',\n",
       "  'M',\n",
       "  'N',\n",
       "  'O',\n",
       "  'P',\n",
       "  'Q',\n",
       "  'R',\n",
       "  'S',\n",
       "  'T',\n",
       "  'U',\n",
       "  'V',\n",
       "  'W',\n",
       "  'X',\n",
       "  'Y',\n",
       "  'Z',\n",
       "  '[',\n",
       "  ']',\n",
       "  'a',\n",
       "  'b',\n",
       "  'c',\n",
       "  'd',\n",
       "  'e',\n",
       "  'f',\n",
       "  'g',\n",
       "  'h',\n",
       "  'i',\n",
       "  'j',\n",
       "  'k',\n",
       "  'l',\n",
       "  'm',\n",
       "  'n',\n",
       "  'o',\n",
       "  'p',\n",
       "  'q',\n",
       "  'r',\n",
       "  's',\n",
       "  't',\n",
       "  'u',\n",
       "  'v',\n",
       "  'w',\n",
       "  'x',\n",
       "  'y',\n",
       "  'z',\n",
       "  'À',\n",
       "  'Á',\n",
       "  'É',\n",
       "  'à',\n",
       "  'á',\n",
       "  'â',\n",
       "  'ä',\n",
       "  'æ',\n",
       "  'ç',\n",
       "  'è',\n",
       "  'é',\n",
       "  'ê',\n",
       "  'ë',\n",
       "  'í',\n",
       "  'î',\n",
       "  'ï',\n",
       "  'ó',\n",
       "  'ô',\n",
       "  'ö',\n",
       "  'ú',\n",
       "  'ü',\n",
       "  'ý',\n",
       "  'œ',\n",
       "  '—',\n",
       "  '‘',\n",
       "  '’',\n",
       "  '“',\n",
       "  '”',\n",
       "  '•',\n",
       "  '™',\n",
       "  '\\ufeff'])"
      ]
     },
     "execution_count": 4,
     "metadata": {},
     "output_type": "execute_result"
    }
   ],
   "source": [
    "len(chars), chars"
   ]
  },
  {
   "cell_type": "code",
   "execution_count": 5,
   "metadata": {},
   "outputs": [],
   "source": [
    "c_to_i = {c: i for i, c in enumerate(chars)}\n",
    "i_to_c = {i: c for i, c in enumerate(chars)}\n",
    "\n",
    "encode = lambda x: [c_to_i[c] for c in x]\n",
    "decode = lambda x: ''.join([i_to_c[i] for i in x])"
   ]
  },
  {
   "cell_type": "code",
   "execution_count": 6,
   "metadata": {},
   "outputs": [
    {
     "data": {
      "text/plain": [
       "([62, 59, 66, 66, 69], 'rovvy')"
      ]
     },
     "execution_count": 6,
     "metadata": {},
     "output_type": "execute_result"
    }
   ],
   "source": [
    "encode('hello'), decode([72, 69, 76, 76, 79])"
   ]
  },
  {
   "cell_type": "code",
   "execution_count": 7,
   "metadata": {},
   "outputs": [
    {
     "data": {
      "text/plain": [
       "'hello'"
      ]
     },
     "execution_count": 7,
     "metadata": {},
     "output_type": "execute_result"
    }
   ],
   "source": [
    "decode([62, 59, 66, 66, 69])"
   ]
  },
  {
   "cell_type": "code",
   "execution_count": 8,
   "metadata": {},
   "outputs": [
    {
     "name": "stdout",
     "output_type": "stream",
     "text": [
      "torch.Size([3227578]) torch.int64\n",
      "tensor([111,  46,  62,  59,   1,  42,  72,  69,  64,  59,  57,  74,   1,  33,\n",
      "         75,  74,  59,  68,  56,  59,  72,  61,   1,  59,  28,  69,  69,  65,\n",
      "          1,  69,  60,   1,  49,  55,  72,   1,  55,  68,  58,   1,  42,  59,\n",
      "         55,  57,  59,   0,   1,   1,   1,   1,   0,  46,  62,  63,  73,   1,\n",
      "         59,  56,  69,  69,  65,   1,  63,  73,   1,  60,  69,  72,   1,  74,\n",
      "         62,  59,   1,  75,  73,  59,   1,  69,  60,   1,  55,  68,  79,  69,\n",
      "         68,  59,   1,  55,  68,  79,  77,  62,  59,  72,  59,   1,  63,  68,\n",
      "          1,  74])\n"
     ]
    }
   ],
   "source": [
    "import torch\n",
    "data = torch.tensor(encode(text), dtype=torch.long)\n",
    "print(data.shape, data.dtype)\n",
    "print(data[:100])"
   ]
  },
  {
   "cell_type": "code",
   "execution_count": 10,
   "metadata": {},
   "outputs": [
    {
     "data": {
      "text/plain": [
       "'\\ufeffThe Project Gutenberg eBook of War and Peace\\n    \\nThis ebook is for the use of anyone anywhere in t'"
      ]
     },
     "execution_count": 10,
     "metadata": {},
     "output_type": "execute_result"
    }
   ],
   "source": [
    "text[:100]"
   ]
  },
  {
   "cell_type": "code",
   "execution_count": 12,
   "metadata": {},
   "outputs": [],
   "source": [
    "n = int(0.9*len(data))\n",
    "train_data, val_data = data[:n], data[n:]"
   ]
  },
  {
   "cell_type": "code",
   "execution_count": 13,
   "metadata": {},
   "outputs": [],
   "source": [
    "block_size = 8"
   ]
  },
  {
   "cell_type": "code",
   "execution_count": 18,
   "metadata": {},
   "outputs": [
    {
     "name": "stdout",
     "output_type": "stream",
     "text": [
      "inputs:\n",
      "torch.Size([4, 8])\n",
      "tensor([[ 1, 77, 62, 55, 74,  1, 77, 59],\n",
      "        [58, 59,  1, 74, 62, 55, 74,  1],\n",
      "        [66, 66,  1, 56, 59, 63, 68, 61],\n",
      "        [ 1, 55, 58, 64, 75, 74, 55, 68]])\n",
      "targets\n",
      "torch.Size([4, 8])\n",
      "tensor([[77, 62, 55, 74,  1, 77, 59,  1],\n",
      "        [59,  1, 74, 62, 55, 74,  1, 59],\n",
      "        [66,  1, 56, 59, 63, 68, 61,  0],\n",
      "        [55, 58, 64, 75, 74, 55, 68, 74]])\n"
     ]
    }
   ],
   "source": [
    "torch.manual_seed(42)\n",
    "batch_size = 4\n",
    "block_size = 8\n",
    "\n",
    "def get_batch(split):\n",
    "    # generate a small batch of data of inputs x and targets y\n",
    "    if split == 'train':\n",
    "        data = train_data\n",
    "    else:\n",
    "        data = val_data\n",
    "    ix = torch.randint(data.size(0) - block_size, (batch_size,))\n",
    "    x = torch.stack([data[i:i+block_size] for i in ix])\n",
    "    y = torch.stack([data[i+1:i+block_size+1] for i in ix])\n",
    "    return x, y\n",
    "\n",
    "xb, yb = get_batch('train')\n",
    "print(\"inputs:\")\n",
    "print(xb.shape)\n",
    "print(xb)\n",
    "print(\"targets\")\n",
    "print(yb.shape)\n",
    "print(yb)\n",
    "\n"
   ]
  },
  {
   "cell_type": "code",
   "execution_count": null,
   "metadata": {},
   "outputs": [],
   "source": []
  }
 ],
 "metadata": {
  "kernelspec": {
   "display_name": "GPT434",
   "language": "python",
   "name": "python3"
  },
  "language_info": {
   "codemirror_mode": {
    "name": "ipython",
    "version": 3
   },
   "file_extension": ".py",
   "mimetype": "text/x-python",
   "name": "python",
   "nbconvert_exporter": "python",
   "pygments_lexer": "ipython3",
   "version": "3.13.2"
  }
 },
 "nbformat": 4,
 "nbformat_minor": 2
}
